{
 "metadata": {
  "name": "",
  "signature": "sha256:61f6dbdd5a38e232d7eed498989014547134e049e85e20ba78a64d076d71ecd1"
 },
 "nbformat": 3,
 "nbformat_minor": 0,
 "worksheets": [
  {
   "cells": [
    {
     "cell_type": "markdown",
     "metadata": {},
     "source": [
      "Import the necessary libraries:"
     ]
    },
    {
     "cell_type": "code",
     "collapsed": false,
     "input": [
      "import pip3bayes as bayes\n",
      "import sys\n",
      "import scipy.stats as stats"
     ],
     "language": "python",
     "metadata": {},
     "outputs": []
    },
    {
     "cell_type": "markdown",
     "metadata": {},
     "source": [
      "Define what experiment and run to fit to:"
     ]
    },
    {
     "cell_type": "code",
     "collapsed": false,
     "input": [
      "exper = 1\n",
      "run = 1\n",
      "path = './save/pip3bayes.model_1/'"
     ],
     "language": "python",
     "metadata": {},
     "outputs": []
    },
    {
     "cell_type": "code",
     "collapsed": false,
     "input": [
      "model = bayes.model_1\n",
      "pip3_max = 0.5\n",
      "pi3k_max = 0.08\n",
      "stim_frame = 20 # frame where dimerizer is added\n",
      "inhib_frame = 164 # frame where competitive dimerizer is added"
     ],
     "language": "python",
     "metadata": {},
     "outputs": []
    },
    {
     "cell_type": "code",
     "collapsed": false,
     "input": [
      "whos"
     ],
     "language": "python",
     "metadata": {},
     "outputs": []
    },
    {
     "cell_type": "code",
     "collapsed": false,
     "input": [
      "d = bayes.Data('test', bayes.get_data('SingleCell_corrected.csv'), pip3_max, pi3k_max, stim_frame, inhib_frame)\n",
      "d.scale()"
     ],
     "language": "python",
     "metadata": {},
     "outputs": []
    },
    {
     "cell_type": "code",
     "collapsed": false,
     "input": [
      "data = d.single_cell(exper, run)"
     ],
     "language": "python",
     "metadata": {},
     "outputs": []
    },
    {
     "cell_type": "code",
     "collapsed": false,
     "input": [
      "%matplotlib inline"
     ],
     "language": "python",
     "metadata": {},
     "outputs": []
    },
    {
     "cell_type": "code",
     "collapsed": false,
     "input": [
      "m_opts = bayes.ModelOptions(model.name)\n",
      "m = bayes.Model(m_opts, model)\n",
      "sim = m.simulate(plot=True)"
     ],
     "language": "python",
     "metadata": {},
     "outputs": []
    },
    {
     "cell_type": "code",
     "collapsed": false,
     "input": [
      "o_opts = bayes.OptimizeOptions(exper, run, m, data)\n",
      "o_opts.weights[o_opts.weight_range,:] = 5\n",
      "o_opts.params = m.model.parameters_rules() # what params to estimate\n",
      "o_opts.prior_mean = [i.value for i in m.model.parameters_rules()]\n",
      "o_opts.prior_var = 10\n",
      "o_opts.nsteps = 1000\n",
      "o_opts.exp_var = stats.norm.fit(data['PH'][-10:])[1]\n",
      "o_opts.iter = iter\n",
      "o_opts.path = path\n",
      "mcmc = bayes.optimize(m, data, o_opts, write=False)"
     ],
     "language": "python",
     "metadata": {},
     "outputs": []
    },
    {
     "cell_type": "code",
     "collapsed": false,
     "input": [
      "sim_opt = m.simulate(plot=True, position=mcmc.cur_params(), data=data)"
     ],
     "language": "python",
     "metadata": {},
     "outputs": []
    },
    {
     "cell_type": "code",
     "collapsed": false,
     "input": [
      "bayes.scatter(mcmc, [0,1,2])"
     ],
     "language": "python",
     "metadata": {},
     "outputs": []
    },
    {
     "cell_type": "code",
     "collapsed": false,
     "input": [],
     "language": "python",
     "metadata": {},
     "outputs": []
    }
   ],
   "metadata": {}
  }
 ]
}